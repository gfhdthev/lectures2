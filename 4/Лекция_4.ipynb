{
 "cells": [
  {
   "cell_type": "markdown",
   "metadata": {},
   "source": [
    "# Полиморфизм"
   ]
  },
  {
   "cell_type": "code",
   "execution_count": 1,
   "metadata": {},
   "outputs": [
    {
     "name": "stdout",
     "output_type": "stream",
     "text": [
      "Meow\n",
      "Woof\n"
     ]
    }
   ],
   "source": [
    "class Cat:\n",
    "    def speak(self):\n",
    "        return \"Meow\"\n",
    "\n",
    "class Dog:\n",
    "    def speak(self):\n",
    "        return \"Woof\"\n",
    "\n",
    "def make_animal_speak(animal):\n",
    "    print(animal.speak())\n",
    "\n",
    "cat = Cat()\n",
    "dog = Dog()\n",
    "\n",
    "make_animal_speak(cat)\n",
    "make_animal_speak(dog)"
   ]
  },
  {
   "cell_type": "code",
   "execution_count": 2,
   "metadata": {},
   "outputs": [
    {
     "name": "stdout",
     "output_type": "stream",
     "text": [
      "(4, 6)\n",
      "(5, 7, 9)\n",
      "11\n",
      "32\n",
      "(-3, 6, -3)\n"
     ]
    }
   ],
   "source": [
    "class Vector2D:\n",
    "    def __init__(self, x, y):\n",
    "        self.x = x\n",
    "        self.y = y\n",
    "\n",
    "    def __add__(self, other):\n",
    "        return Vector2D(self.x + other.x, self.y + other.y)\n",
    "\n",
    "    #скалярное произведение\n",
    "    def __mul__(self, other): \n",
    "        return self.x*other.x+self.y*other.y\n",
    "\n",
    "    def __str__(self):\n",
    "        return f\"({self.x}, {self.y})\"\n",
    "\n",
    "class Vector3D:\n",
    "    def __init__(self, x, y, z):\n",
    "        self.x = x\n",
    "        self.y = y\n",
    "        self.z = z\n",
    "\n",
    "    def __add__(self, other):\n",
    "        return Vector3D(self.x + other.x, self.y + other.y, \n",
    "                        self.z + other.z)\n",
    "    \n",
    "    def __mul__(self, other):\n",
    "        return self.x*other.x+self.y*other.y+self.z*other.z\n",
    "    \n",
    "    #векторное произведение - @\n",
    "    def __matmul__(self, other):\n",
    "        return Vector3D(self.y*other.z-other.y*self.z, self.z*other.x-other.z*self.x, self.x*other.y-other.x*self.y)\n",
    "\n",
    "    def __str__(self):\n",
    "        return f\"({self.x}, {self.y}, {self.z})\"\n",
    "\n",
    "v2d_1 = Vector2D(1, 2)\n",
    "v2d_2 = Vector2D(3, 4)\n",
    "v3d_1 = Vector3D(1, 2, 3)\n",
    "v3d_2 = Vector3D(4, 5, 6)\n",
    "\n",
    "print(v2d_1 + v2d_2)\n",
    "print(v3d_1 + v3d_2)\n",
    "print(v2d_1 * v2d_2)\n",
    "print(v3d_1 * v3d_2)\n",
    "print(v3d_1 @ v3d_2)"
   ]
  },
  {
   "cell_type": "markdown",
   "metadata": {},
   "source": [
    "# Абстракция"
   ]
  },
  {
   "cell_type": "code",
   "execution_count": 4,
   "metadata": {},
   "outputs": [],
   "source": [
    "from abc import ABC, abstractmethod\n",
    "\n",
    "class Book(ABC):\n",
    "    def __init__(self, title, author):\n",
    "        self.title = title\n",
    "        self.author = author\n",
    "\n",
    "    @abstractmethod\n",
    "    def get_summary(self):\n",
    "        pass\n",
    "\n",
    "class Fiction(Book):\n",
    "    def get_summary(self):\n",
    "        print(f'\"{self.title}\" - роман в стиле исторический фикшн, автор - {self.author}')\n",
    "\n",
    "class NonFiction(Book):\n",
    "    def get_summary(self):\n",
    "        print(f'\"{self.title}\" - книга в стиле нон фикшн, автор - {self.author}')\n",
    "\n",
    "class Poetry(Book):\n",
    "    pass"
   ]
  },
  {
   "cell_type": "code",
   "execution_count": 5,
   "metadata": {},
   "outputs": [
    {
     "name": "stdout",
     "output_type": "stream",
     "text": [
      "\"Террор\" - роман в стиле исторический фикшн, автор - Дэн Симмонс\n",
      "\"Как писать книги\" - книга в стиле нон фикшн, автор - Стивен Кинг\n"
     ]
    }
   ],
   "source": [
    "fiction_book = Fiction(\"Террор\", \"Дэн Симмонс\")\n",
    "nonfiction_book = NonFiction(\"Как писать книги\", \"Стивен Кинг\")\n",
    "fiction_book.get_summary()\n",
    "nonfiction_book.get_summary()"
   ]
  },
  {
   "cell_type": "code",
   "execution_count": 6,
   "metadata": {},
   "outputs": [
    {
     "ename": "TypeError",
     "evalue": "Can't instantiate abstract class Poetry without an implementation for abstract method 'get_summary'",
     "output_type": "error",
     "traceback": [
      "\u001b[1;31m---------------------------------------------------------------------------\u001b[0m",
      "\u001b[1;31mTypeError\u001b[0m                                 Traceback (most recent call last)",
      "Cell \u001b[1;32mIn[6], line 1\u001b[0m\n\u001b[1;32m----> 1\u001b[0m poetry_book \u001b[38;5;241m=\u001b[39m \u001b[43mPoetry\u001b[49m\u001b[43m(\u001b[49m\u001b[38;5;124;43m\"\u001b[39;49m\u001b[38;5;124;43mСтихотворения\u001b[39;49m\u001b[38;5;124;43m\"\u001b[39;49m\u001b[43m,\u001b[49m\u001b[43m \u001b[49m\u001b[38;5;124;43m\"\u001b[39;49m\u001b[38;5;124;43mБорис Пастернак\u001b[39;49m\u001b[38;5;124;43m\"\u001b[39;49m\u001b[43m)\u001b[49m\n",
      "\u001b[1;31mTypeError\u001b[0m: Can't instantiate abstract class Poetry without an implementation for abstract method 'get_summary'"
     ]
    }
   ],
   "source": [
    "poetry_book = Poetry(\"Стихотворения\", \"Борис Пастернак\")"
   ]
  },
  {
   "cell_type": "code",
   "execution_count": 7,
   "metadata": {},
   "outputs": [],
   "source": [
    "from abc import ABC, abstractmethod\n",
    "\n",
    "class Recipe(ABC):\n",
    "    @abstractmethod\n",
    "    def cook(self):\n",
    "        pass\n",
    "\n",
    "class Entree(Recipe):\n",
    "    def __init__(self, ingredients):\n",
    "        self.ingredients = ingredients\n",
    "\n",
    "    def cook(self):\n",
    "        print(f\"Готовим на медленном огне смесь ингредиентов ({', '.join(self.ingredients)}) для основного блюда\")\n",
    "\n",
    "class Dessert(Recipe):\n",
    "    def __init__(self, ingredients):\n",
    "        self.ingredients = ingredients\n",
    "\n",
    "    def cook(self):\n",
    "        print(f\"Смешиваем {', '.join(self.ingredients)} для десерта\")\n",
    "\n",
    "class Appetizer(Recipe):\n",
    "    pass\n",
    "\n",
    "class PartyMix(Appetizer):\n",
    "    def cook(self):\n",
    "        print(\"Готовим снеки - выкладываем на поднос орешки, чипсы и крекеры\")"
   ]
  },
  {
   "cell_type": "code",
   "execution_count": 8,
   "metadata": {},
   "outputs": [
    {
     "name": "stdout",
     "output_type": "stream",
     "text": [
      "Готовим на медленном огне смесь ингредиентов (курица, рис, овощи) для основного блюда\n",
      "Смешиваем мороженое, шоколадные чипсы, мараскиновые вишни для десерта\n",
      "Готовим снеки - выкладываем на поднос орешки, чипсы и крекеры\n"
     ]
    }
   ],
   "source": [
    "entree = Entree([\"курица\", \"рис\", \"овощи\"])\n",
    "dessert = Dessert([\"мороженое\", \"шоколадные чипсы\", \"мараскиновые вишни\"])\n",
    "partymix = PartyMix()\n",
    "entree.cook() \n",
    "dessert.cook()\n",
    "partymix.cook()"
   ]
  },
  {
   "cell_type": "code",
   "execution_count": 9,
   "metadata": {},
   "outputs": [
    {
     "ename": "TypeError",
     "evalue": "Can't instantiate abstract class Appetizer without an implementation for abstract method 'cook'",
     "output_type": "error",
     "traceback": [
      "\u001b[1;31m---------------------------------------------------------------------------\u001b[0m",
      "\u001b[1;31mTypeError\u001b[0m                                 Traceback (most recent call last)",
      "Cell \u001b[1;32mIn[9], line 1\u001b[0m\n\u001b[1;32m----> 1\u001b[0m appetizer \u001b[38;5;241m=\u001b[39m \u001b[43mAppetizer\u001b[49m\u001b[43m(\u001b[49m\u001b[43m)\u001b[49m\n\u001b[0;32m      2\u001b[0m appetizer\u001b[38;5;241m.\u001b[39mcook()\n",
      "\u001b[1;31mTypeError\u001b[0m: Can't instantiate abstract class Appetizer without an implementation for abstract method 'cook'"
     ]
    }
   ],
   "source": [
    "appetizer = Appetizer()\n",
    "appetizer.cook()"
   ]
  }
 ],
 "metadata": {
  "kernelspec": {
   "display_name": "Python 3",
   "language": "python",
   "name": "python3"
  },
  "language_info": {
   "codemirror_mode": {
    "name": "ipython",
    "version": 3
   },
   "file_extension": ".py",
   "mimetype": "text/x-python",
   "name": "python",
   "nbconvert_exporter": "python",
   "pygments_lexer": "ipython3",
   "version": "3.12.5"
  }
 },
 "nbformat": 4,
 "nbformat_minor": 2
}
