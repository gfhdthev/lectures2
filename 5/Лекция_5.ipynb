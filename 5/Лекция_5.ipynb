{
 "cells": [
  {
   "cell_type": "markdown",
   "metadata": {},
   "source": [
    "# Обработка исключения в Python"
   ]
  },
  {
   "cell_type": "code",
   "execution_count": 4,
   "metadata": {},
   "outputs": [
    {
     "name": "stdout",
     "output_type": "stream",
     "text": [
      "Переменная не определена.\n"
     ]
    }
   ],
   "source": [
    "try:\n",
    "    print(undefined_variable)\n",
    "except NameError:\n",
    "   print('Переменная не определена.')"
   ]
  },
  {
   "cell_type": "code",
   "execution_count": 5,
   "metadata": {},
   "outputs": [
    {
     "name": "stdout",
     "output_type": "stream",
     "text": [
      "Файл не найден.\n"
     ]
    },
    {
     "ename": "NameError",
     "evalue": "name 'f' is not defined",
     "output_type": "error",
     "traceback": [
      "\u001b[1;31m---------------------------------------------------------------------------\u001b[0m",
      "\u001b[1;31mNameError\u001b[0m                                 Traceback (most recent call last)",
      "Cell \u001b[1;32mIn[5], line 7\u001b[0m\n\u001b[0;32m      5\u001b[0m     \u001b[38;5;28mprint\u001b[39m(\u001b[38;5;124m'\u001b[39m\u001b[38;5;124mФайл не найден.\u001b[39m\u001b[38;5;124m'\u001b[39m)\n\u001b[0;32m      6\u001b[0m \u001b[38;5;28;01mfinally\u001b[39;00m:\n\u001b[1;32m----> 7\u001b[0m     \u001b[43mf\u001b[49m\u001b[38;5;241m.\u001b[39mclose()\n",
      "\u001b[1;31mNameError\u001b[0m: name 'f' is not defined"
     ]
    }
   ],
   "source": [
    "try:\n",
    "    f = open('my_file.txt')\n",
    "    # Действия с файлом\n",
    "except FileNotFoundError:\n",
    "    print('Файл не найден.')\n",
    "finally:\n",
    "    f.close()"
   ]
  },
  {
   "cell_type": "code",
   "execution_count": 6,
   "metadata": {},
   "outputs": [
    {
     "name": "stdout",
     "output_type": "stream",
     "text": [
      "Вы ввели число 123\n"
     ]
    }
   ],
   "source": [
    "try:\n",
    "    n = int(input('Введите число: '))\n",
    "except ValueError:\n",
    "    print('Это не число!')\n",
    "else:\n",
    "    print(f'Вы ввели число {n}')"
   ]
  },
  {
   "cell_type": "code",
   "execution_count": 7,
   "metadata": {},
   "outputs": [
    {
     "name": "stdout",
     "output_type": "stream",
     "text": [
      "Исключение: division by zero\n"
     ]
    }
   ],
   "source": [
    "try:\n",
    "    1/0\n",
    "except ZeroDivisionError as e:\n",
    "    print(f'Исключение: {str(e)}')"
   ]
  },
  {
   "cell_type": "code",
   "execution_count": 8,
   "metadata": {},
   "outputs": [
    {
     "ename": "ValueError",
     "evalue": "Недопустимое значение",
     "output_type": "error",
     "traceback": [
      "\u001b[1;31m---------------------------------------------------------------------------\u001b[0m",
      "\u001b[1;31mValueError\u001b[0m                                Traceback (most recent call last)",
      "Cell \u001b[1;32mIn[8], line 1\u001b[0m\n\u001b[1;32m----> 1\u001b[0m \u001b[38;5;28;01mraise\u001b[39;00m \u001b[38;5;167;01mValueError\u001b[39;00m(\u001b[38;5;124m'\u001b[39m\u001b[38;5;124mНедопустимое значение\u001b[39m\u001b[38;5;124m'\u001b[39m)\n",
      "\u001b[1;31mValueError\u001b[0m: Недопустимое значение"
     ]
    }
   ],
   "source": [
    "raise ValueError('Недопустимое значение')"
   ]
  },
  {
   "cell_type": "markdown",
   "metadata": {},
   "source": [
    "# Обработка множественного исключения"
   ]
  },
  {
   "cell_type": "code",
   "execution_count": 9,
   "metadata": {},
   "outputs": [
    {
     "name": "stdout",
     "output_type": "stream",
     "text": [
      "Сообщение о TypeError\n"
     ]
    }
   ],
   "source": [
    "try:\n",
    "    n = '2' + 2\n",
    "except TypeError:\n",
    "    print('Сообщение о TypeError')\n",
    "except ZeroDivisionError:\n",
    "    print('Сообщение о ZeroDivisionError')"
   ]
  },
  {
   "cell_type": "code",
   "execution_count": 10,
   "metadata": {},
   "outputs": [
    {
     "name": "stdout",
     "output_type": "stream",
     "text": [
      "Обнаружена ошибка TypeError или ZeroDivisionError\n"
     ]
    }
   ],
   "source": [
    "try:\n",
    "    n = '1' + 1  # Код, который может вызвать исключение TypeError или ZeroDivisionError\n",
    "except (TypeError, ZeroDivisionError):\n",
    "    print('Обнаружена ошибка TypeError или ZeroDivisionError')"
   ]
  },
  {
   "cell_type": "code",
   "execution_count": 11,
   "metadata": {},
   "outputs": [
    {
     "name": "stdout",
     "output_type": "stream",
     "text": [
      "Обнаружена ошибка TypeError\n"
     ]
    }
   ],
   "source": [
    "try:\n",
    "   n = '1' + 1  # Код, который может вызвать исключение\n",
    "except TypeError:\n",
    "    print('Обнаружена ошибка TypeError')\n",
    "except Exception:\n",
    "    print('Что-то пошло не так')"
   ]
  },
  {
   "cell_type": "code",
   "execution_count": 12,
   "metadata": {},
   "outputs": [
    {
     "name": "stdout",
     "output_type": "stream",
     "text": [
      "Что-то пошло не так\n"
     ]
    }
   ],
   "source": [
    "try:\n",
    "   n = '1' + 1  # Код, который может вызвать исключение\n",
    "except Exception:\n",
    "    print('Что-то пошло не так')  \n",
    "except TypeError:\n",
    "    print('Обнаружена ошибка TypeError')"
   ]
  },
  {
   "cell_type": "markdown",
   "metadata": {},
   "source": [
    "# Создание собственного исключения"
   ]
  },
  {
   "cell_type": "code",
   "execution_count": 2,
   "metadata": {},
   "outputs": [],
   "source": [
    "class ValidationError(Exception):\n",
    "    pass"
   ]
  },
  {
   "cell_type": "code",
   "execution_count": 3,
   "metadata": {},
   "outputs": [
    {
     "name": "stdout",
     "output_type": "stream",
     "text": [
      "Возраст не может быть больше 120\n"
     ]
    }
   ],
   "source": [
    "def person_age(age):\n",
    "    if age < 0:\n",
    "        raise ValidationError('Возраст не может быть отрицательным')\n",
    "    elif age > 120:\n",
    "        raise ValidationError('Возраст не может быть больше 120')\n",
    "    return True\n",
    "\n",
    "try:\n",
    "    person_age(150)\n",
    "except ValidationError as e:\n",
    "    print(e)"
   ]
  }
 ],
 "metadata": {
  "kernelspec": {
   "display_name": "Python 3",
   "language": "python",
   "name": "python3"
  },
  "language_info": {
   "codemirror_mode": {
    "name": "ipython",
    "version": 3
   },
   "file_extension": ".py",
   "mimetype": "text/x-python",
   "name": "python",
   "nbconvert_exporter": "python",
   "pygments_lexer": "ipython3",
   "version": "3.12.0"
  }
 },
 "nbformat": 4,
 "nbformat_minor": 2
}
