{
 "cells": [
  {
   "cell_type": "code",
   "execution_count": 1,
   "metadata": {},
   "outputs": [],
   "source": [
    "class Computer:\n",
    "\n",
    "    def __init__ (self, diag, memory):\n",
    "        self.diag = diag\n",
    "        self.mem = memory\n",
    "\n",
    "    def info (self):\n",
    "        print(f\"diag: {self.diag}, memory:{self.mem} GB\")\n",
    "         \n",
    "    def __del__ (self):\n",
    "\t    print(\"del done\", self.diag)\n",
    "         "
   ]
  },
  {
   "cell_type": "code",
   "execution_count": 2,
   "metadata": {},
   "outputs": [
    {
     "name": "stdout",
     "output_type": "stream",
     "text": [
      "diag: 14, memory:512 GB\n"
     ]
    }
   ],
   "source": [
    "notebook = Computer(14, 512)\n",
    "notebook.info()"
   ]
  },
  {
   "cell_type": "code",
   "execution_count": 3,
   "metadata": {},
   "outputs": [],
   "source": [
    "def left_func():\n",
    "    pc = Computer(32, 2048)\n",
    "    pc.info()"
   ]
  },
  {
   "cell_type": "code",
   "execution_count": 4,
   "metadata": {},
   "outputs": [
    {
     "name": "stdout",
     "output_type": "stream",
     "text": [
      "diag: 32, memory:2048 GB\n",
      "del done 32\n"
     ]
    }
   ],
   "source": [
    "left_func()"
   ]
  },
  {
   "cell_type": "code",
   "execution_count": 13,
   "metadata": {},
   "outputs": [],
   "source": [
    "class Ship:\n",
    "\n",
    "    def __init__(self, name, displacement, sail, speed):\n",
    "        self.name = name\n",
    "        self.displacement = displacement\n",
    "        self.sail = sail\n",
    "        self.speed = speed\n",
    "\n",
    "    def name_info(self):\n",
    "        print(f\"ship's name: {self.name}\")\n",
    "\n",
    "    def time_in_trip(self, range):\n",
    "        print(f\"time in trip on {self.name} will be {range / self.speed} hours\")\n",
    "\n",
    "    def __del__(self):\n",
    "        print(f\"ship {self.name} was succesfully deleted\")"
   ]
  },
  {
   "cell_type": "code",
   "execution_count": 14,
   "metadata": {},
   "outputs": [],
   "source": [
    "ship1 = Ship(\"Titanic\", 10_000, False, 23)"
   ]
  },
  {
   "cell_type": "code",
   "execution_count": 15,
   "metadata": {},
   "outputs": [
    {
     "name": "stdout",
     "output_type": "stream",
     "text": [
      "ship's name: Titanic\n"
     ]
    }
   ],
   "source": [
    "ship1.name_info()"
   ]
  },
  {
   "cell_type": "code",
   "execution_count": 12,
   "metadata": {},
   "outputs": [],
   "source": [
    "atlantic_range = 2000 # in miles"
   ]
  },
  {
   "cell_type": "code",
   "execution_count": 17,
   "metadata": {},
   "outputs": [
    {
     "name": "stdout",
     "output_type": "stream",
     "text": [
      "time in trip on Titanic will be 86.95652173913044 hours\n"
     ]
    }
   ],
   "source": [
    "ship1.time_in_trip(atlantic_range)"
   ]
  }
 ],
 "metadata": {
  "kernelspec": {
   "display_name": "Python 3",
   "language": "python",
   "name": "python3"
  },
  "language_info": {
   "codemirror_mode": {
    "name": "ipython",
    "version": 3
   },
   "file_extension": ".py",
   "mimetype": "text/x-python",
   "name": "python",
   "nbconvert_exporter": "python",
   "pygments_lexer": "ipython3",
   "version": "3.12.5"
  }
 },
 "nbformat": 4,
 "nbformat_minor": 2
}
