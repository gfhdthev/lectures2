{
 "cells": [
  {
   "cell_type": "markdown",
   "metadata": {},
   "source": [
    "# Одноуровневое наследование"
   ]
  },
  {
   "cell_type": "code",
   "execution_count": 1,
   "metadata": {},
   "outputs": [],
   "source": [
    "class ParentClass:\n",
    "    def __init__(self, name):\n",
    "        self.name = name\n",
    "\n",
    "    def greet(self):\n",
    "        print(f\"Hello, my name is {self.name}\")\n",
    "\n",
    "class ChildClass(ParentClass):\n",
    "    def __init__(self, name, age):\n",
    "        super().__init__(name)\n",
    "        self.age = age\n",
    "\n",
    "    def greet(self):\n",
    "        super().greet()\n",
    "        print(f\"I am {self.age} years old\")"
   ]
  },
  {
   "cell_type": "code",
   "execution_count": 2,
   "metadata": {},
   "outputs": [],
   "source": [
    "Alice = ParentClass('Alice')"
   ]
  },
  {
   "cell_type": "code",
   "execution_count": 3,
   "metadata": {},
   "outputs": [
    {
     "name": "stdout",
     "output_type": "stream",
     "text": [
      "Hello, my name is Alice\n"
     ]
    }
   ],
   "source": [
    "Alice.greet()"
   ]
  },
  {
   "cell_type": "code",
   "execution_count": 4,
   "metadata": {},
   "outputs": [],
   "source": [
    "Bob = ChildClass('Bob', 12)"
   ]
  },
  {
   "cell_type": "code",
   "execution_count": 5,
   "metadata": {},
   "outputs": [
    {
     "name": "stdout",
     "output_type": "stream",
     "text": [
      "Hello, my name is Bob\n",
      "I am 12 years old\n"
     ]
    }
   ],
   "source": [
    "Bob.greet()"
   ]
  },
  {
   "cell_type": "markdown",
   "metadata": {},
   "source": [
    "# Множественное наследование"
   ]
  },
  {
   "cell_type": "code",
   "execution_count": 6,
   "metadata": {},
   "outputs": [],
   "source": [
    "class Walker:\n",
    "    def walk(self):\n",
    "        return \"Walking\"\n",
    "\n",
    "class Swimmer:\n",
    "    def swim(self):\n",
    "        return \"Swimming\"\n",
    "\n",
    "class Amphibian(Walker, Swimmer):\n",
    "    pass\n"
   ]
  },
  {
   "cell_type": "code",
   "execution_count": 7,
   "metadata": {},
   "outputs": [
    {
     "name": "stdout",
     "output_type": "stream",
     "text": [
      "Walking\n",
      "Swimming\n"
     ]
    }
   ],
   "source": [
    "amphibian = Amphibian()\n",
    "print(amphibian.walk())\n",
    "print(amphibian.swim())\n"
   ]
  },
  {
   "cell_type": "code",
   "execution_count": 1,
   "metadata": {},
   "outputs": [],
   "source": [
    "class Walker:\n",
    "    def __init__(self, name):\n",
    "        self.name = name\n",
    "\n",
    "    def walk(self):\n",
    "        return \"Walking\"\n",
    "\n",
    "class Swimmer:\n",
    "    def __init__(self, name):\n",
    "        self.name = name\n",
    "\n",
    "    def swim(self):\n",
    "        return \"Swimming\"\n",
    "\n",
    "class Amphibian(Walker, Swimmer):\n",
    "    def __init__(self, name):\n",
    "        super().__init__(name)"
   ]
  },
  {
   "cell_type": "code",
   "execution_count": 2,
   "metadata": {},
   "outputs": [
    {
     "name": "stdout",
     "output_type": "stream",
     "text": [
      "Walking\n",
      "Swimming\n",
      "frog\n"
     ]
    }
   ],
   "source": [
    "amphibian = Amphibian('frog')\n",
    "print(amphibian.walk())\n",
    "print(amphibian.swim())\n",
    "print(amphibian.name)"
   ]
  },
  {
   "cell_type": "code",
   "execution_count": 3,
   "metadata": {},
   "outputs": [],
   "source": [
    "class Walker:\n",
    "    def walk(self):\n",
    "        return \"Walking\"\n",
    "\n",
    "class Swimmer:\n",
    "    def walk(self):\n",
    "        return \"Swimming\"\n",
    "\n",
    "class Amphibian(Walker, Swimmer):\n",
    "    pass"
   ]
  },
  {
   "cell_type": "code",
   "execution_count": 4,
   "metadata": {},
   "outputs": [
    {
     "name": "stdout",
     "output_type": "stream",
     "text": [
      "Walking\n"
     ]
    }
   ],
   "source": [
    "amphibian = Amphibian()\n",
    "print(amphibian.walk())"
   ]
  },
  {
   "cell_type": "code",
   "execution_count": 5,
   "metadata": {},
   "outputs": [],
   "source": [
    "class Walker:\n",
    "    def walk(self):\n",
    "        return \"Walking\"\n",
    "\n",
    "class Swimmer:\n",
    "    def walk(self):\n",
    "        return \"Swimming\"\n",
    "\n",
    "class Amphibian(Swimmer, Walker):\n",
    "    pass"
   ]
  },
  {
   "cell_type": "code",
   "execution_count": 6,
   "metadata": {},
   "outputs": [
    {
     "name": "stdout",
     "output_type": "stream",
     "text": [
      "Swimming\n"
     ]
    }
   ],
   "source": [
    "amphibian = Amphibian()\n",
    "print(amphibian.walk())"
   ]
  },
  {
   "cell_type": "code",
   "execution_count": 9,
   "metadata": {},
   "outputs": [],
   "source": [
    "class Walker:\n",
    "    def walk(self):\n",
    "        return \"Walking\"\n",
    "\n",
    "class Swimmer:\n",
    "    def walk(self):\n",
    "        return \"Swimming\"\n",
    "\n",
    "class Amphibian(Swimmer, Walker):\n",
    "    def walk(self):\n",
    "        return Walker.walk(self) "
   ]
  },
  {
   "cell_type": "code",
   "execution_count": 10,
   "metadata": {},
   "outputs": [
    {
     "name": "stdout",
     "output_type": "stream",
     "text": [
      "Walking\n"
     ]
    }
   ],
   "source": [
    "amphibian = Amphibian()\n",
    "print(amphibian.walk())"
   ]
  },
  {
   "cell_type": "markdown",
   "metadata": {},
   "source": [
    "# Многоуровневое наследование"
   ]
  },
  {
   "cell_type": "code",
   "execution_count": 8,
   "metadata": {},
   "outputs": [],
   "source": [
    "class Animal:\n",
    "    def __init__(self, name):\n",
    "        self.name = name\n",
    "\n",
    "    def move(self):\n",
    "        return \"Moving\"\n",
    "\n",
    "class Mammal(Animal):\n",
    "    def speak(self):\n",
    "        return \"Mammal sound\"\n",
    "\n",
    "class Cat(Mammal):\n",
    "    def speak(self):\n",
    "        return f\"{self.name} says Meow!\"\n"
   ]
  },
  {
   "cell_type": "code",
   "execution_count": 9,
   "metadata": {},
   "outputs": [
    {
     "name": "stdout",
     "output_type": "stream",
     "text": [
      "Moving\n",
      "Whiskers says Meow!\n"
     ]
    }
   ],
   "source": [
    "my_cat = Cat(\"Whiskers\")\n",
    "print(my_cat.move())\n",
    "print(my_cat.speak()) "
   ]
  },
  {
   "cell_type": "markdown",
   "metadata": {},
   "source": [
    "# Иерархическое наследование"
   ]
  },
  {
   "cell_type": "code",
   "execution_count": 10,
   "metadata": {},
   "outputs": [],
   "source": [
    "class Animal:\n",
    "    def __init__(self, name):\n",
    "        self.name = name\n",
    "\n",
    "    def speak(self):\n",
    "        raise NotImplementedError(\"Subclass must implement this method\")\n",
    "\n",
    "class Dog(Animal):\n",
    "    def speak(self):\n",
    "        return f\"{self.name} says Woof!\"\n",
    "\n",
    "class Cat(Animal):\n",
    "    def speak(self):\n",
    "        return f\"{self.name} says Meow!\"\n"
   ]
  },
  {
   "cell_type": "code",
   "execution_count": 11,
   "metadata": {},
   "outputs": [
    {
     "name": "stdout",
     "output_type": "stream",
     "text": [
      "Buddy says Woof!\n",
      "Whiskers says Meow!\n"
     ]
    }
   ],
   "source": [
    "my_dog = Dog(\"Buddy\")\n",
    "my_cat = Cat(\"Whiskers\")\n",
    "print(my_dog.speak())\n",
    "print(my_cat.speak())"
   ]
  },
  {
   "cell_type": "markdown",
   "metadata": {},
   "source": [
    "# Гибридное наследование"
   ]
  },
  {
   "cell_type": "code",
   "execution_count": 12,
   "metadata": {},
   "outputs": [],
   "source": [
    "class Animal:\n",
    "    def __init__(self, name):\n",
    "        self.name = name\n",
    "\n",
    "    def move(self):\n",
    "        return \"Moving\"\n",
    "\n",
    "class Walker(Animal):\n",
    "    def walk(self):\n",
    "        return \"Walking\"\n",
    "\n",
    "class Swimmer(Animal):\n",
    "    def swim(self):\n",
    "        return \"Swimming\"\n",
    "\n",
    "class Amphibian(Walker, Swimmer):\n",
    "    pass\n"
   ]
  },
  {
   "cell_type": "code",
   "execution_count": 13,
   "metadata": {},
   "outputs": [
    {
     "name": "stdout",
     "output_type": "stream",
     "text": [
      "Moving\n",
      "Walking\n",
      "Swimming\n"
     ]
    }
   ],
   "source": [
    "amphibian = Amphibian(\"Froggy\")\n",
    "print(amphibian.move())\n",
    "print(amphibian.walk())\n",
    "print(amphibian.swim())\n"
   ]
  }
 ],
 "metadata": {
  "kernelspec": {
   "display_name": "Python 3",
   "language": "python",
   "name": "python3"
  },
  "language_info": {
   "codemirror_mode": {
    "name": "ipython",
    "version": 3
   },
   "file_extension": ".py",
   "mimetype": "text/x-python",
   "name": "python",
   "nbconvert_exporter": "python",
   "pygments_lexer": "ipython3",
   "version": "3.12.0"
  }
 },
 "nbformat": 4,
 "nbformat_minor": 2
}
