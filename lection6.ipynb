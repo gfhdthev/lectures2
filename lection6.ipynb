{
 "cells": [
  {
   "cell_type": "markdown",
   "id": "155c5465",
   "metadata": {},
   "source": [
    "# Multithreading (Многопоточность)"
   ]
  },
  {
   "cell_type": "markdown",
   "id": "de856f0a",
   "metadata": {},
   "source": [
    "Основные классы и методы модуля threading:\n",
    "\n",
    "•\tthreading.Thread: Основной класс для создания потоков.\n",
    "\n",
    "•\tstart(): Запускает выполнение потока.\n",
    "\n",
    "•\tjoin(): Блокирует выполнение основного потока, пока поток-объект не завершится.\n",
    "\n",
    "•\tLock: Используется для синхронизации доступа к общим ресурсам.\n"
   ]
  },
  {
   "cell_type": "code",
   "execution_count": null,
   "id": "25429756",
   "metadata": {},
   "outputs": [
    {
     "name": "stdout",
     "output_type": "stream",
     "text": [
      "Number: 0 \n",
      "Main thread continues...\n",
      "\n",
      "Number: 1 \n",
      "\n",
      "Number: 2 \n",
      "\n",
      "Number: 3 \n",
      "\n",
      "Number: 4 \n",
      "\n",
      "Thread finished\n"
     ]
    }
   ],
   "source": [
    "import threading\n",
    "import time\n",
    "\n",
    "def print_numbers():\n",
    "    for i in range(5):\n",
    "        print(f\"Number: {i} \\n\")\n",
    "        time.sleep(1)\n",
    "\n",
    "# Создание и запуск потока\n",
    "# в target мы указываем имя функции, но обязательно без кавычек, \n",
    "# потому что мы не вызываем функцию, а даем на нее ссылку (как в инкапсуляции)\n",
    "thread = threading.Thread(target=print_numbers) \n",
    "thread.start()\n",
    "\n",
    "# Основной поток продолжает выполнение\n",
    "print(\"Main thread continues...\")\n",
    "thread.join()\n",
    "print(\"Thread finished\")"
   ]
  },
  {
   "cell_type": "markdown",
   "id": "155841a7",
   "metadata": {},
   "source": [
    "Использование Lock для синхронизации потоков"
   ]
  },
  {
   "cell_type": "code",
   "execution_count": 3,
   "id": "24b1276b",
   "metadata": {},
   "outputs": [
    {
     "name": "stdout",
     "output_type": "stream",
     "text": [
      "Final counter value: 5000\n"
     ]
    }
   ],
   "source": [
    "import threading\n",
    "\n",
    "counter = 0\n",
    "lock = threading.Lock()\n",
    "\n",
    "def increment_counter():\n",
    "    global counter\n",
    "    for _ in range(1_000):\n",
    "        with lock:\n",
    "            counter += 1\n",
    "\n",
    "threads = []\n",
    "for _ in range(5):\n",
    "    thread = threading.Thread(target=increment_counter)\n",
    "    threads.append(thread)\n",
    "    thread.start()\n",
    "\n",
    "for thread in threads:\n",
    "    thread.join()\n",
    "\n",
    "print(f\"Final counter value: {counter}\")"
   ]
  },
  {
   "cell_type": "markdown",
   "id": "822e1995",
   "metadata": {},
   "source": [
    "Многопоточность для сетевых запросов"
   ]
  },
  {
   "cell_type": "code",
   "execution_count": 4,
   "id": "d9eb6355",
   "metadata": {},
   "outputs": [
    {
     "name": "stdout",
     "output_type": "stream",
     "text": [
      "https://openai.com: 403\n",
      "https://python.org: 200\n",
      "https://example.com: 200\n"
     ]
    }
   ],
   "source": [
    "import threading\n",
    "import requests\n",
    "\n",
    "urls = [\n",
    "    \"https://example.com\",\n",
    "    \"https://python.org\",\n",
    "    \"https://openai.com\"\n",
    "]\n",
    "\n",
    "def fetch_url(url):\n",
    "    response = requests.get(url)\n",
    "    print(f\"{url}: {response.status_code}\")\n",
    "\n",
    "threads = []\n",
    "for url in urls:\n",
    "    thread = threading.Thread(target=fetch_url, args=(url,))\n",
    "    threads.append(thread)\n",
    "    thread.start()\n",
    "\n",
    "for thread in threads:\n",
    "    thread.join()"
   ]
  },
  {
   "cell_type": "markdown",
   "id": "03ed085f",
   "metadata": {},
   "source": [
    "# Многопроцессорность"
   ]
  },
  {
   "cell_type": "code",
   "execution_count": 5,
   "id": "7153167b",
   "metadata": {},
   "outputs": [],
   "source": [
    "import multiprocessing\n",
    "\n",
    "def worker_function():\n",
    "    print(\"Process is running\")\n",
    "\n",
    "if __name__ == \"__main__\":\n",
    "    process = multiprocessing.Process(target=worker_function)\n",
    "    process.start()\n",
    "    process.join()"
   ]
  },
  {
   "cell_type": "markdown",
   "id": "00d4d8f1",
   "metadata": {},
   "source": [
    "ячейка ниже не работает в блокноте - её нужно запускать в обычном файле *.py "
   ]
  },
  {
   "cell_type": "code",
   "execution_count": null,
   "id": "eb4d0948",
   "metadata": {},
   "outputs": [],
   "source": [
    "import multiprocessing\n",
    "\n",
    "def square_number(n):\n",
    "    return n * n\n",
    "\n",
    "if __name__ == \"__main__\":\n",
    "    numbers = [1, 2, 3, 4, 5]\n",
    "    with multiprocessing.Pool(processes=3) as pool:\n",
    "        results = pool.map(square_number, numbers)\n",
    "    print(f\"Squared numbers: {results}\")"
   ]
  },
  {
   "cell_type": "code",
   "execution_count": null,
   "id": "44083142",
   "metadata": {},
   "outputs": [],
   "source": [
    "import multiprocessing\n",
    "\n",
    "def worker_function(queue):\n",
    "    queue.put(\"Data from process\")\n",
    "\n",
    "if __name__ == \"__main__\":\n",
    "    queue = multiprocessing.Queue()\n",
    "    process = multiprocessing.Process(target=worker_function, args=(queue,))\n",
    "    process.start()\n",
    "    print(queue.get())\n",
    "    process.join()"
   ]
  },
  {
   "cell_type": "markdown",
   "id": "dd4b592b",
   "metadata": {},
   "source": [
    "# Асинхронное программирование"
   ]
  },
  {
   "cell_type": "code",
   "execution_count": 1,
   "id": "f2709bf2",
   "metadata": {},
   "outputs": [
    {
     "ename": "RuntimeError",
     "evalue": "asyncio.run() cannot be called from a running event loop",
     "output_type": "error",
     "traceback": [
      "\u001b[31m---------------------------------------------------------------------------\u001b[39m",
      "\u001b[31mRuntimeError\u001b[39m                              Traceback (most recent call last)",
      "\u001b[36mCell\u001b[39m\u001b[36m \u001b[39m\u001b[32mIn[1]\u001b[39m\u001b[32m, line 7\u001b[39m\n\u001b[32m      4\u001b[39m     \u001b[38;5;28;01mawait\u001b[39;00m asyncio.sleep(\u001b[32m1\u001b[39m)\n\u001b[32m      5\u001b[39m     \u001b[38;5;28mprint\u001b[39m(\u001b[33m\"\u001b[39m\u001b[33mHello, world\u001b[39m\u001b[33m\"\u001b[39m)\n\u001b[32m----> \u001b[39m\u001b[32m7\u001b[39m \u001b[43masyncio\u001b[49m\u001b[43m.\u001b[49m\u001b[43mrun\u001b[49m\u001b[43m(\u001b[49m\u001b[43msay_hello\u001b[49m\u001b[43m(\u001b[49m\u001b[43m)\u001b[49m\u001b[43m)\u001b[49m\n",
      "\u001b[36mFile \u001b[39m\u001b[32mc:\\Users\\Admin\\AppData\\Local\\Programs\\Python\\Python312\\Lib\\asyncio\\runners.py:190\u001b[39m, in \u001b[36mrun\u001b[39m\u001b[34m(main, debug, loop_factory)\u001b[39m\n\u001b[32m    161\u001b[39m \u001b[38;5;250m\u001b[39m\u001b[33;03m\"\"\"Execute the coroutine and return the result.\u001b[39;00m\n\u001b[32m    162\u001b[39m \n\u001b[32m    163\u001b[39m \u001b[33;03mThis function runs the passed coroutine, taking care of\u001b[39;00m\n\u001b[32m   (...)\u001b[39m\u001b[32m    186\u001b[39m \u001b[33;03m    asyncio.run(main())\u001b[39;00m\n\u001b[32m    187\u001b[39m \u001b[33;03m\"\"\"\u001b[39;00m\n\u001b[32m    188\u001b[39m \u001b[38;5;28;01mif\u001b[39;00m events._get_running_loop() \u001b[38;5;129;01mis\u001b[39;00m \u001b[38;5;129;01mnot\u001b[39;00m \u001b[38;5;28;01mNone\u001b[39;00m:\n\u001b[32m    189\u001b[39m     \u001b[38;5;66;03m# fail fast with short traceback\u001b[39;00m\n\u001b[32m--> \u001b[39m\u001b[32m190\u001b[39m     \u001b[38;5;28;01mraise\u001b[39;00m \u001b[38;5;167;01mRuntimeError\u001b[39;00m(\n\u001b[32m    191\u001b[39m         \u001b[33m\"\u001b[39m\u001b[33masyncio.run() cannot be called from a running event loop\u001b[39m\u001b[33m\"\u001b[39m)\n\u001b[32m    193\u001b[39m \u001b[38;5;28;01mwith\u001b[39;00m Runner(debug=debug, loop_factory=loop_factory) \u001b[38;5;28;01mas\u001b[39;00m runner:\n\u001b[32m    194\u001b[39m     \u001b[38;5;28;01mreturn\u001b[39;00m runner.run(main)\n",
      "\u001b[31mRuntimeError\u001b[39m: asyncio.run() cannot be called from a running event loop"
     ]
    }
   ],
   "source": [
    "import asyncio\n",
    "\n",
    "async def say_hello():\n",
    "    await asyncio.sleep(1)\n",
    "    print(\"Hello, world\")\n",
    "\n",
    "asyncio.run(say_hello())"
   ]
  },
  {
   "cell_type": "code",
   "execution_count": null,
   "id": "09c7f21c",
   "metadata": {},
   "outputs": [],
   "source": [
    "import asyncio\n",
    "\n",
    "async def task(name, delay):\n",
    "    await asyncio.sleep(delay)\n",
    "    print(f\"Task {name} completed after {delay} seconds\")\n",
    "\n",
    "async def main():\n",
    "    tasks = [\n",
    "        asyncio.create_task(task(\"A\", 2)),\n",
    "        asyncio.create_task(task(\"B\", 1)),\n",
    "        asyncio.create_task(task(\"C\", 3))\n",
    "    ]\n",
    "    await asyncio.gather(*tasks)\n",
    "\n",
    "asyncio.run(main())"
   ]
  },
  {
   "cell_type": "code",
   "execution_count": null,
   "id": "b509de6c",
   "metadata": {},
   "outputs": [],
   "source": [
    "import asyncio\n",
    "import aiohttp\n",
    "\n",
    "async def fetch_url(session, url):\n",
    "    async with session.get(url) as response:\n",
    "        print(f\"{url}: {response.status}\")\n",
    "\n",
    "async def main():\n",
    "    urls = [\n",
    "        \"https://example.com\",\n",
    "        \"https://python.org\",\n",
    "        \"https://openai.com\"\n",
    "    ]\n",
    "    async with aiohttp.ClientSession() as session:\n",
    "        tasks = [fetch_url(session, url) for url in urls]\n",
    "        await asyncio.gather(*tasks)\n",
    "\n",
    "asyncio.run(main())"
   ]
  }
 ],
 "metadata": {
  "kernelspec": {
   "display_name": "Python 3",
   "language": "python",
   "name": "python3"
  },
  "language_info": {
   "codemirror_mode": {
    "name": "ipython",
    "version": 3
   },
   "file_extension": ".py",
   "mimetype": "text/x-python",
   "name": "python",
   "nbconvert_exporter": "python",
   "pygments_lexer": "ipython3",
   "version": "3.12.3"
  }
 },
 "nbformat": 4,
 "nbformat_minor": 5
}
